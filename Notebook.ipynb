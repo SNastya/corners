{
 "cells": [
  {
   "cell_type": "code",
   "execution_count": 1,
   "metadata": {},
   "outputs": [],
   "source": [
    "from project import PlotDrawer"
   ]
  },
  {
   "cell_type": "code",
   "execution_count": 2,
   "metadata": {},
   "outputs": [
    {
     "name": "stdout",
     "output_type": "stream",
     "text": [
      "plots/true_vs_predicted.png\n",
      "plots/floor_ceiling_mean_comparison_line.png\n",
      "plots/floor_ceiling_mean_comparison.png\n",
      "plots/deviation_histogram.png\n",
      "plots/max_min_boxplot.png\n"
     ]
    }
   ],
   "source": [
    "drawer = PlotDrawer('deviation.json')\n",
    "# plot_paths = drawer.draw_plots()\n",
    "\n",
    "for path in drawer.draw_plots():\n",
    "    print(path)"
   ]
  }
 ],
 "metadata": {
  "kernelspec": {
   "display_name": "venv",
   "language": "python",
   "name": "python3"
  },
  "language_info": {
   "codemirror_mode": {
    "name": "ipython",
    "version": 3
   },
   "file_extension": ".py",
   "mimetype": "text/x-python",
   "name": "python",
   "nbconvert_exporter": "python",
   "pygments_lexer": "ipython3",
   "version": "3.11.3"
  }
 },
 "nbformat": 4,
 "nbformat_minor": 2
}
